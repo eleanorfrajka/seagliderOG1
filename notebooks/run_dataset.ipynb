{
 "cells": [
  {
   "cell_type": "markdown",
   "metadata": {},
   "source": [
    "# Run through datasets\n",
    "\n",
    "Run a list of datasets, generating log files and data output files in data/"
   ]
  },
  {
   "cell_type": "code",
   "execution_count": 1,
   "metadata": {},
   "outputs": [],
   "source": [
    "# This cell imports for development work\n",
    "import pathlib\n",
    "import sys\n",
    "import warnings\n",
    "warnings.simplefilter(\"ignore\", category=Warning)\n",
    "import logging\n",
    "_log = logging.getLogger(__name__)\n"
   ]
  },
  {
   "cell_type": "code",
   "execution_count": 2,
   "metadata": {},
   "outputs": [],
   "source": [
    "from seagliderOG1 import readers, writers, plotters, utilities, tools\n",
    "from seagliderOG1 import convertOG1\n",
    "from seagliderOG1 import vocabularies\n",
    "import xarray as xr\n",
    "import os"
   ]
  },
  {
   "cell_type": "markdown",
   "metadata": {},
   "source": [
    "## Load Seaglider data in basestation format\n",
    "\n",
    "Test case build on a file which was written in 2013 by basestation v2.8 into nodc format template v0.9.\n",
    "\n",
    "This is the same process as above (contained in `convertOG1.convert_to_OG1`), but breaking out to access the sub-functions individually.  This way you can inspect the process as it goes along, and also inspect some of the data which did not make it into the final dataset:\n",
    "\n",
    "- `sg_cal` - details from `sg_calib_constants.m`, \n",
    "- `dc_log` - log events, and \n",
    "- `dc_other` - random other variables that were in the basestation file)."
   ]
  },
  {
   "cell_type": "code",
   "execution_count": null,
   "metadata": {},
   "outputs": [
    {
     "name": "stdout",
     "output_type": "stream",
     "text": [
      "/Users/eddifying/Cloudfree/gitlab-cloudfree/seagliderOG1\n",
      "['/Users/eddifying/micromamba/envs/messfern_env/lib/python313.zip', '/Users/eddifying/micromamba/envs/messfern_env/lib/python3.13', '/Users/eddifying/micromamba/envs/messfern_env/lib/python3.13/lib-dynload', '', '/Users/eddifying/Cloudfree/gitlab-cloudfree/seagliderOG1/venv/lib/python3.13/site-packages', '/Users/eddifying/Cloudfree/gitlab-cloudfree/seagliderOG1', '/Users/eddifying/Cloudfree/gitlab-cloudfree/seagliderOG1/seagliderOG1']\n",
      "Running the directory: https://www.ncei.noaa.gov/data/oceans/glider/seaglider/uw/033/20100729/\n",
      "TypeError Invalid value for attr 'calibration_parameters': {'t_g': 0.00435754738, 't_h': 0.000629403181, 't_i': 2.43066775e-05, 't_j': 2.62239863e-06, 'c_g': -10.3320573, 'c_h': 1.20947434, 'c_i': -0.00161928789, 'c_j': 0.000218257457, 'cpcor': -9.57e-08, 'ctcor': 3.25e-06}. For serialization to netCDF files, its value must be of one of the following types: str, Number, ndarray, number, list, tuple, bytes\n",
      "Running the directory: https://www.ncei.noaa.gov/data/oceans/glider/seaglider/uw/034/20110128/\n",
      "TypeError Invalid value for attr 'calibration_parameters': {'t_g': 0.00435118603, 't_h': 0.00062670782, 't_i': 2.33362459e-05, 't_j': 2.42888781e-06, 'c_g': -10.0941847, 'c_h': 1.15925676, 'c_i': -0.00114339134, 'c_j': 0.000168957653, 'cpcor': -9.57e-08, 'ctcor': 3.25e-06}. For serialization to netCDF files, its value must be of one of the following types: str, Number, ndarray, number, list, tuple, bytes\n"
     ]
    }
   ],
   "source": [
    "script_dir = pathlib.Path().parent.absolute()\n",
    "parent_dir = script_dir.parents[0]\n",
    "sys.path.append(str(parent_dir))\n",
    "sys.path.append(str(parent_dir) + '/seagliderOG1')\n",
    "print(parent_dir)\n",
    "print(sys.path)\n",
    "\n",
    "# Specify the path for writing datafiles\n",
    "data_path = os.path.join(parent_dir, 'data')\n",
    "\n",
    "input_locations = [\n",
    "    # Either Iceland, Faroes or RAPID/MOCHA\n",
    "    \"https://www.ncei.noaa.gov/data/oceans/glider/seaglider/uw/005/20090829/\", # done\n",
    "    \"https://www.ncei.noaa.gov/data/oceans/glider/seaglider/uw/005/20080606/\", # done\n",
    "    \"https://www.ncei.noaa.gov/data/oceans/glider/seaglider/uw/005/20081106/\", # done\n",
    "    \"https://www.ncei.noaa.gov/data/oceans/glider/seaglider/uw/012/20070831/\", # done\n",
    "    \"https://www.ncei.noaa.gov/data/oceans/glider/seaglider/uw/014/20080214/\",  # done\n",
    "    \"https://www.ncei.noaa.gov/data/oceans/glider/seaglider/uw/014/20080222/\", # done\n",
    "    \"https://www.ncei.noaa.gov/data/oceans/glider/seaglider/uw/016/20061112/\",  # done\n",
    "    \"https://www.ncei.noaa.gov/data/oceans/glider/seaglider/uw/016/20090605/\", # done\n",
    "    \"https://www.ncei.noaa.gov/data/oceans/glider/seaglider/uw/016/20071113/\", # done\n",
    "    \"https://www.ncei.noaa.gov/data/oceans/glider/seaglider/uw/016/20080607/\",  # done\n",
    "    \"https://www.ncei.noaa.gov/data/oceans/glider/seaglider/uw/033/20100518/\",\n",
    "    \"https://www.ncei.noaa.gov/data/oceans/glider/seaglider/uw/033/20100903/\",\n",
    "    \"https://www.ncei.noaa.gov/data/oceans/glider/seaglider/uw/101/20081108/\",\n",
    "    \"https://www.ncei.noaa.gov/data/oceans/glider/seaglider/uw/101/20061112/\",\n",
    "    \"https://www.ncei.noaa.gov/data/oceans/glider/seaglider/uw/101/20070609/\",\n",
    "    \"https://www.ncei.noaa.gov/data/oceans/glider/seaglider/uw/102/20061112/\",\n",
    "    # Labrador Sea\n",
    "    \"https://www.ncei.noaa.gov/data/oceans/glider/seaglider/uw/015/20040924/\",\n",
    "    \"https://www.ncei.noaa.gov/data/oceans/glider/seaglider/uw/014/20040924/\",\n",
    "    \"https://www.ncei.noaa.gov/data/oceans/glider/seaglider/uw/008/20031002/\",\n",
    "    \"https://www.ncei.noaa.gov/data/oceans/glider/seaglider/uw/004/20031002/\",\n",
    "    \"https://www.ncei.noaa.gov/data/oceans/glider/seaglider/uw/016/20050406/\",\n",
    "    # RAPID/MOCHA\n",
    "    \"https://www.ncei.noaa.gov/data/oceans/glider/seaglider/uw/033/20100729/\",\n",
    "    \"https://www.ncei.noaa.gov/data/oceans/glider/seaglider/uw/034/20110128/\",\n",
    "    # RAPID/MOCHA\n",
    "\n",
    "]\n",
    "\n",
    "for input_loc in input_locations:\n",
    "    sg_num = input_loc.split('/')[8]\n",
    "    start_date = input_loc.split('/')[9]\n",
    "    # Name the log file - note that this is specific to the input locations above!\n",
    "    logf = 'sg'+sg_num +'_' + start_date+'.log'\n",
    "    logf_with_path = os.path.join(data_path, logf)\n",
    "\n",
    "    # Set up logging\n",
    "    logging.basicConfig(\n",
    "        filename=logf_with_path, \n",
    "        encoding='utf-8',\n",
    "        format=\"%(asctime)s %(levelname)-8s %(funcName)s %(message)s\",\n",
    "        filemode=\"w\",\n",
    "        level=logging.INFO,\n",
    "        datefmt=\"%Y%m%dT%H%M%S\",\n",
    "        force=True,\n",
    "        )\n",
    "    _log.info('convertOG1.process_and_save_data')\n",
    "    _log.info('Processing data from: %s', input_loc)\n",
    "    # Example usage\n",
    "    ds_all = convertOG1.process_and_save_data(input_loc, output_dir=data_path, save=True,  run_quietly=True)\n",
    "    _log.info('Finished processing data from: %s', input_loc)"
   ]
  }
 ],
 "metadata": {
  "kernelspec": {
   "display_name": "venv",
   "language": "python",
   "name": "python3"
  },
  "language_info": {
   "codemirror_mode": {
    "name": "ipython",
    "version": 3
   },
   "file_extension": ".py",
   "mimetype": "text/x-python",
   "name": "python",
   "nbconvert_exporter": "python",
   "pygments_lexer": "ipython3",
   "version": "3.13.0"
  }
 },
 "nbformat": 4,
 "nbformat_minor": 2
}
